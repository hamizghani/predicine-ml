{
 "cells": [
  {
   "cell_type": "code",
   "execution_count": 1,
   "id": "0a8fb6dc-1dc2-4480-a287-717b77421a9e",
   "metadata": {},
   "outputs": [],
   "source": [
    "import pandas as pd"
   ]
  },
  {
   "cell_type": "code",
   "execution_count": 2,
   "id": "e61633bd-baac-4aef-827e-d5491ad9f53d",
   "metadata": {},
   "outputs": [],
   "source": [
    "users = pd.read_csv(\"user.csv\")\n",
    "medicine = pd.read_csv(\"medicine.csv\")\n",
    "medicinedisease = pd.read_csv(\"medicine&disease.csv\")\n",
    "transaction_history = pd.read_csv(\"transaction_history.csv\")\n",
    "disease = pd.read_csv(\"disease.csv\")"
   ]
  },
  {
   "cell_type": "code",
   "execution_count": null,
   "id": "b5f151a9-523a-40c9-9513-89b8af6060dd",
   "metadata": {},
   "outputs": [],
   "source": [
    "merge "
   ]
  }
 ],
 "metadata": {
  "kernelspec": {
   "display_name": "Python 3 (ipykernel)",
   "language": "python",
   "name": "python3"
  },
  "language_info": {
   "codemirror_mode": {
    "name": "ipython",
    "version": 3
   },
   "file_extension": ".py",
   "mimetype": "text/x-python",
   "name": "python",
   "nbconvert_exporter": "python",
   "pygments_lexer": "ipython3",
   "version": "3.12.3"
  }
 },
 "nbformat": 4,
 "nbformat_minor": 5
}
