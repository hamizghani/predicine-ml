{
 "cells": [
  {
   "cell_type": "code",
   "execution_count": 92,
   "id": "12544225-8af9-45dd-a8f9-2bf02a328954",
   "metadata": {},
   "outputs": [],
   "source": [
    "import pandas as pd\n",
    "import numpy as np\n",
    "import random"
   ]
  },
  {
   "cell_type": "code",
   "execution_count": 130,
   "id": "1e414322-0978-489f-a58d-703318391db3",
   "metadata": {},
   "outputs": [],
   "source": [
    "users = pd.read_csv(\"users.csv\")\n",
    "medicine = pd.read_csv(\"medicine.csv\")\n",
    "medicinedisease = pd.read_csv(\"medicinedisease.csv\")\n",
    "transaction_history = pd.read_csv(\"transaction_history.csv\")\n",
    "disease = pd.read_csv(\"disease.csv\")"
   ]
  },
  {
   "cell_type": "code",
   "execution_count": 138,
   "id": "25e46e13-9b8e-4ef6-821d-cc6d690c4ad3",
   "metadata": {},
   "outputs": [
    {
     "data": {
      "text/html": [
       "<div>\n",
       "<style scoped>\n",
       "    .dataframe tbody tr th:only-of-type {\n",
       "        vertical-align: middle;\n",
       "    }\n",
       "\n",
       "    .dataframe tbody tr th {\n",
       "        vertical-align: top;\n",
       "    }\n",
       "\n",
       "    .dataframe thead th {\n",
       "        text-align: right;\n",
       "    }\n",
       "</style>\n",
       "<table border=\"1\" class=\"dataframe\">\n",
       "  <thead>\n",
       "    <tr style=\"text-align: right;\">\n",
       "      <th></th>\n",
       "      <th>user_id</th>\n",
       "      <th>region</th>\n",
       "    </tr>\n",
       "  </thead>\n",
       "  <tbody>\n",
       "    <tr>\n",
       "      <th>0</th>\n",
       "      <td>1</td>\n",
       "      <td>Jawa</td>\n",
       "    </tr>\n",
       "    <tr>\n",
       "      <th>1</th>\n",
       "      <td>2</td>\n",
       "      <td>Sulawesi</td>\n",
       "    </tr>\n",
       "    <tr>\n",
       "      <th>2</th>\n",
       "      <td>3</td>\n",
       "      <td>Sumatra</td>\n",
       "    </tr>\n",
       "    <tr>\n",
       "      <th>3</th>\n",
       "      <td>4</td>\n",
       "      <td>Kalimantan</td>\n",
       "    </tr>\n",
       "    <tr>\n",
       "      <th>4</th>\n",
       "      <td>5</td>\n",
       "      <td>Papua</td>\n",
       "    </tr>\n",
       "  </tbody>\n",
       "</table>\n",
       "</div>"
      ],
      "text/plain": [
       "   user_id      region\n",
       "0        1        Jawa\n",
       "1        2    Sulawesi\n",
       "2        3     Sumatra\n",
       "3        4  Kalimantan\n",
       "4        5       Papua"
      ]
     },
     "execution_count": 138,
     "metadata": {},
     "output_type": "execute_result"
    }
   ],
   "source": [
    "users"
   ]
  },
  {
   "cell_type": "code",
   "execution_count": 139,
   "id": "00061a8f-40d8-4bae-a0aa-39168c5a3585",
   "metadata": {},
   "outputs": [
    {
     "name": "stdout",
     "output_type": "stream",
     "text": [
      "   user_id      region\n",
      "0        1        Jawa\n",
      "1        2    Sulawesi\n",
      "2        3     Sumatra\n",
      "3        4  Kalimantan\n",
      "4        5       Papua\n"
     ]
    }
   ],
   "source": [
    "import pandas as pd\n",
    "\n",
    "# Buat data\n",
    "data = {\n",
    "    'user_id': [1, 2, 3, 4, 5],\n",
    "    'region': ['Jawa', 'Sulawesi', 'Sumatra', 'Kalimantan', 'Papua']\n",
    "}\n",
    "\n",
    "# Buat DataFrame\n",
    "users = pd.DataFrame(data)\n",
    "\n",
    "# Simpan ke CSV\n",
    "users.to_csv(\"users.csv\", index=False)\n",
    "\n",
    "print(users)\n"
   ]
  },
  {
   "cell_type": "code",
   "execution_count": 133,
   "id": "8677b567-bf1d-470c-b415-583eff264dff",
   "metadata": {},
   "outputs": [],
   "source": [
    "users.to_csv(\"users.csv\", index=False)"
   ]
  },
  {
   "cell_type": "code",
   "execution_count": 106,
   "id": "4465bf03-246b-48c0-80f1-0a0619043def",
   "metadata": {},
   "outputs": [],
   "source": [
    "# Mapping dari U01-U05 ke angka 1-5\n",
    "user_map = {\n",
    "    \"U01\": 1,\n",
    "    \"U02\": 2,\n",
    "    \"U03\": 3,\n",
    "    \"U04\": 4,\n",
    "    \"U05\": 5\n",
    "}\n",
    "Jawa\n",
    "Kalimantan\n",
    "Sumatra\n",
    "Papua\n",
    "Sulawesi\n",
    "\n",
    "# Terapkan mapping ke kolom id di DataFrame users\n",
    "transaction_history[\"userId\"] = transaction_history[\"userId\"].map(user_map)"
   ]
  },
  {
   "cell_type": "code",
   "execution_count": 108,
   "id": "2c4d34e1-6aa0-450b-9bdf-083951f838a3",
   "metadata": {},
   "outputs": [],
   "source": [
    "transaction_history[\"medicineId\"] *= -1"
   ]
  },
  {
   "cell_type": "code",
   "execution_count": 129,
   "id": "f081eff1-2567-4a38-87a0-4a694f74de33",
   "metadata": {},
   "outputs": [],
   "source": [
    "transaction_history.to_csv(\"transaction_history.csv\", index=False)"
   ]
  },
  {
   "cell_type": "code",
   "execution_count": 116,
   "id": "025db4dc-d389-4ba8-b84a-a6fbe5fe9447",
   "metadata": {},
   "outputs": [],
   "source": [
    "# Hitung rata-rata correlation_score untuk setiap kombinasi medicineId-diseaseId\n",
    "medicinedisease_cleaned = medicinedisease.groupby([\"id_medicine\", \"id_disease\"], as_index=False)[\"correlation_score\"].mean()"
   ]
  },
  {
   "cell_type": "code",
   "execution_count": 119,
   "id": "6ba5c13a-12f1-4a5e-826e-71944ca1ac2b",
   "metadata": {},
   "outputs": [],
   "source": [
    "disease[\"id\"] *= -1"
   ]
  },
  {
   "cell_type": "code",
   "execution_count": 120,
   "id": "e350eb05-b827-4113-a830-070ff4ca62d0",
   "metadata": {},
   "outputs": [],
   "source": [
    "disease.to_csv(\"disease.csv\", index=False)"
   ]
  },
  {
   "cell_type": "code",
   "execution_count": 85,
   "id": "d452ee9a-3455-48f0-8a20-a1f2a79f5c3a",
   "metadata": {},
   "outputs": [],
   "source": [
    "# Hitung rata-rata skor untuk setiap kombinasi id dan zone\n",
    "disease_cleaned = disease.groupby([\"id\", \"zone\"], as_index=False)[\"score\"].mean()"
   ]
  },
  {
   "cell_type": "code",
   "execution_count": 89,
   "id": "be26b440-6884-4b58-b152-2a65a0195fa8",
   "metadata": {},
   "outputs": [],
   "source": [
    "# Mapping zona\n",
    "zone_map = {\n",
    "    \"Bekasi\": \"Jawa\",\n",
    "    \"Depok\": \"Kalimantan\",\n",
    "    \"Jakarta Selatan\": \"Sumatra\",\n",
    "    \"Jakarta Timur\": \"Papua\",\n",
    "    \"Tangerang\": \"Sulawesi\"\n",
    "}\n",
    "\n",
    "# Terapkan mapping ke kolom 'zone'\n",
    "disease_cleaned[\"zone\"] = disease_cleaned[\"zone\"].map(zone_map)\n"
   ]
  },
  {
   "cell_type": "code",
   "execution_count": 91,
   "id": "bf4c2e32-8684-4164-ade7-13098c535068",
   "metadata": {},
   "outputs": [],
   "source": [
    "disease_cleaned.to_csv(\"disease.csv\", index=False)\n"
   ]
  },
  {
   "cell_type": "code",
   "execution_count": null,
   "id": "5bdaa71a-da91-4e8c-8efd-308d6b41b311",
   "metadata": {},
   "outputs": [],
   "source": []
  },
  {
   "cell_type": "code",
   "execution_count": null,
   "id": "e848b426-6db8-478f-a5a0-16c3ec89905e",
   "metadata": {},
   "outputs": [],
   "source": []
  },
  {
   "cell_type": "code",
   "execution_count": null,
   "id": "72cd5a21-afd5-4a1a-8833-618e9260af44",
   "metadata": {},
   "outputs": [],
   "source": []
  },
  {
   "cell_type": "code",
   "execution_count": null,
   "id": "c45af2b9-6d75-4007-a7bf-2a4103f95480",
   "metadata": {},
   "outputs": [],
   "source": []
  }
 ],
 "metadata": {
  "kernelspec": {
   "display_name": "Python 3 (ipykernel)",
   "language": "python",
   "name": "python3"
  },
  "language_info": {
   "codemirror_mode": {
    "name": "ipython",
    "version": 3
   },
   "file_extension": ".py",
   "mimetype": "text/x-python",
   "name": "python",
   "nbconvert_exporter": "python",
   "pygments_lexer": "ipython3",
   "version": "3.12.3"
  }
 },
 "nbformat": 4,
 "nbformat_minor": 5
}
