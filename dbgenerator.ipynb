{
 "cells": [
  {
   "cell_type": "code",
   "execution_count": 1,
   "id": "12544225-8af9-45dd-a8f9-2bf02a328954",
   "metadata": {},
   "outputs": [],
   "source": [
    "import pandas as pd\n",
    "import numpy as np\n",
    "import random"
   ]
  },
  {
   "cell_type": "code",
   "execution_count": 52,
   "id": "1e414322-0978-489f-a58d-703318391db3",
   "metadata": {},
   "outputs": [],
   "source": [
    "users = pd.read_csv(\"user.csv\")\n",
    "medicine = pd.read_csv(\"medicine.csv\")\n",
    "medicinedisease = pd.read_csv(\"medicine&disease.csv\")\n",
    "transaction_history = pd.read_csv(\"transaction_history.csv\")\n",
    "disease = pd.read_csv(\"disease.csv\")"
   ]
  },
  {
   "cell_type": "code",
   "execution_count": 53,
   "id": "4465bf03-246b-48c0-80f1-0a0619043def",
   "metadata": {},
   "outputs": [],
   "source": [
    "medicine_id_mapping = {f\"D{str(i).zfill(3)}\": -i for i in range(1, 51)}\n",
    "\n",
    "# Apply mapping\n",
    "transaction_history[\"medicineId\"] = transaction_history[\"medicineId\"].map(medicine_id_mapping)\n"
   ]
  },
  {
   "cell_type": "code",
   "execution_count": 51,
   "id": "2c4d34e1-6aa0-450b-9bdf-083951f838a3",
   "metadata": {},
   "outputs": [],
   "source": [
    "medicine.to_csv(\"medicine.csv\", index=False)"
   ]
  },
  {
   "cell_type": "code",
   "execution_count": 54,
   "id": "f081eff1-2567-4a38-87a0-4a694f74de33",
   "metadata": {},
   "outputs": [
    {
     "data": {
      "text/html": [
       "<div>\n",
       "<style scoped>\n",
       "    .dataframe tbody tr th:only-of-type {\n",
       "        vertical-align: middle;\n",
       "    }\n",
       "\n",
       "    .dataframe tbody tr th {\n",
       "        vertical-align: top;\n",
       "    }\n",
       "\n",
       "    .dataframe thead th {\n",
       "        text-align: right;\n",
       "    }\n",
       "</style>\n",
       "<table border=\"1\" class=\"dataframe\">\n",
       "  <thead>\n",
       "    <tr style=\"text-align: right;\">\n",
       "      <th></th>\n",
       "      <th>timestamp</th>\n",
       "      <th>medicineId</th>\n",
       "      <th>amount</th>\n",
       "      <th>userId</th>\n",
       "      <th>price</th>\n",
       "    </tr>\n",
       "  </thead>\n",
       "  <tbody>\n",
       "    <tr>\n",
       "      <th>0</th>\n",
       "      <td>2025-04-11 06:31:42</td>\n",
       "      <td>-1</td>\n",
       "      <td>10</td>\n",
       "      <td>U01</td>\n",
       "      <td>53284</td>\n",
       "    </tr>\n",
       "    <tr>\n",
       "      <th>1</th>\n",
       "      <td>2025-04-11 07:57:54</td>\n",
       "      <td>-1</td>\n",
       "      <td>9</td>\n",
       "      <td>U01</td>\n",
       "      <td>52297</td>\n",
       "    </tr>\n",
       "    <tr>\n",
       "      <th>2</th>\n",
       "      <td>2025-04-11 08:00:35</td>\n",
       "      <td>-1</td>\n",
       "      <td>6</td>\n",
       "      <td>U01</td>\n",
       "      <td>52016</td>\n",
       "    </tr>\n",
       "    <tr>\n",
       "      <th>3</th>\n",
       "      <td>2025-04-11 12:18:56</td>\n",
       "      <td>-1</td>\n",
       "      <td>6</td>\n",
       "      <td>U01</td>\n",
       "      <td>54813</td>\n",
       "    </tr>\n",
       "    <tr>\n",
       "      <th>4</th>\n",
       "      <td>2025-04-11 10:11:15</td>\n",
       "      <td>-1</td>\n",
       "      <td>5</td>\n",
       "      <td>U01</td>\n",
       "      <td>51383</td>\n",
       "    </tr>\n",
       "    <tr>\n",
       "      <th>...</th>\n",
       "      <td>...</td>\n",
       "      <td>...</td>\n",
       "      <td>...</td>\n",
       "      <td>...</td>\n",
       "      <td>...</td>\n",
       "    </tr>\n",
       "    <tr>\n",
       "      <th>8745</th>\n",
       "      <td>2025-04-05 07:21:40</td>\n",
       "      <td>-50</td>\n",
       "      <td>8</td>\n",
       "      <td>U05</td>\n",
       "      <td>47989</td>\n",
       "    </tr>\n",
       "    <tr>\n",
       "      <th>8746</th>\n",
       "      <td>2025-04-05 19:23:27</td>\n",
       "      <td>-50</td>\n",
       "      <td>10</td>\n",
       "      <td>U05</td>\n",
       "      <td>51700</td>\n",
       "    </tr>\n",
       "    <tr>\n",
       "      <th>8747</th>\n",
       "      <td>2025-04-05 04:11:44</td>\n",
       "      <td>-50</td>\n",
       "      <td>5</td>\n",
       "      <td>U05</td>\n",
       "      <td>44854</td>\n",
       "    </tr>\n",
       "    <tr>\n",
       "      <th>8748</th>\n",
       "      <td>2025-04-05 13:18:52</td>\n",
       "      <td>-50</td>\n",
       "      <td>6</td>\n",
       "      <td>U05</td>\n",
       "      <td>42730</td>\n",
       "    </tr>\n",
       "    <tr>\n",
       "      <th>8749</th>\n",
       "      <td>2025-04-05 07:22:37</td>\n",
       "      <td>-50</td>\n",
       "      <td>6</td>\n",
       "      <td>U05</td>\n",
       "      <td>49575</td>\n",
       "    </tr>\n",
       "  </tbody>\n",
       "</table>\n",
       "<p>8750 rows × 5 columns</p>\n",
       "</div>"
      ],
      "text/plain": [
       "                timestamp  medicineId  amount userId  price\n",
       "0     2025-04-11 06:31:42          -1      10    U01  53284\n",
       "1     2025-04-11 07:57:54          -1       9    U01  52297\n",
       "2     2025-04-11 08:00:35          -1       6    U01  52016\n",
       "3     2025-04-11 12:18:56          -1       6    U01  54813\n",
       "4     2025-04-11 10:11:15          -1       5    U01  51383\n",
       "...                   ...         ...     ...    ...    ...\n",
       "8745  2025-04-05 07:21:40         -50       8    U05  47989\n",
       "8746  2025-04-05 19:23:27         -50      10    U05  51700\n",
       "8747  2025-04-05 04:11:44         -50       5    U05  44854\n",
       "8748  2025-04-05 13:18:52         -50       6    U05  42730\n",
       "8749  2025-04-05 07:22:37         -50       6    U05  49575\n",
       "\n",
       "[8750 rows x 5 columns]"
      ]
     },
     "execution_count": 54,
     "metadata": {},
     "output_type": "execute_result"
    }
   ],
   "source": [
    "transaction_history"
   ]
  },
  {
   "cell_type": "code",
   "execution_count": null,
   "id": "025db4dc-d389-4ba8-b84a-a6fbe5fe9447",
   "metadata": {},
   "outputs": [],
   "source": []
  },
  {
   "cell_type": "code",
   "execution_count": null,
   "id": "e350eb05-b827-4113-a830-070ff4ca62d0",
   "metadata": {},
   "outputs": [],
   "source": []
  },
  {
   "cell_type": "code",
   "execution_count": null,
   "id": "d452ee9a-3455-48f0-8a20-a1f2a79f5c3a",
   "metadata": {},
   "outputs": [],
   "source": []
  },
  {
   "cell_type": "code",
   "execution_count": null,
   "id": "be26b440-6884-4b58-b152-2a65a0195fa8",
   "metadata": {},
   "outputs": [],
   "source": []
  },
  {
   "cell_type": "code",
   "execution_count": null,
   "id": "bf4c2e32-8684-4164-ade7-13098c535068",
   "metadata": {},
   "outputs": [],
   "source": []
  },
  {
   "cell_type": "code",
   "execution_count": null,
   "id": "5bdaa71a-da91-4e8c-8efd-308d6b41b311",
   "metadata": {},
   "outputs": [],
   "source": []
  },
  {
   "cell_type": "code",
   "execution_count": null,
   "id": "e848b426-6db8-478f-a5a0-16c3ec89905e",
   "metadata": {},
   "outputs": [],
   "source": []
  },
  {
   "cell_type": "code",
   "execution_count": null,
   "id": "72cd5a21-afd5-4a1a-8833-618e9260af44",
   "metadata": {},
   "outputs": [],
   "source": []
  },
  {
   "cell_type": "code",
   "execution_count": null,
   "id": "c45af2b9-6d75-4007-a7bf-2a4103f95480",
   "metadata": {},
   "outputs": [],
   "source": []
  }
 ],
 "metadata": {
  "kernelspec": {
   "display_name": "Python 3 (ipykernel)",
   "language": "python",
   "name": "python3"
  },
  "language_info": {
   "codemirror_mode": {
    "name": "ipython",
    "version": 3
   },
   "file_extension": ".py",
   "mimetype": "text/x-python",
   "name": "python",
   "nbconvert_exporter": "python",
   "pygments_lexer": "ipython3",
   "version": "3.12.3"
  }
 },
 "nbformat": 4,
 "nbformat_minor": 5
}
