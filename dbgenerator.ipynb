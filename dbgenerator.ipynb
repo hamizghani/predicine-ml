{
 "cells": [
  {
   "cell_type": "code",
   "execution_count": 1,
   "id": "12544225-8af9-45dd-a8f9-2bf02a328954",
   "metadata": {},
   "outputs": [],
   "source": [
    "import pandas as pd\n",
    "import numpy as np"
   ]
  },
  {
   "cell_type": "code",
   "execution_count": 9,
   "id": "55a5f4f7-11bf-4831-acaa-10a36ddd3bc8",
   "metadata": {},
   "outputs": [],
   "source": []
  },
  {
   "cell_type": "code",
   "execution_count": 19,
   "id": "1e414322-0978-489f-a58d-703318391db3",
   "metadata": {},
   "outputs": [],
   "source": [
    "import pandas as pd\n",
    "import random\n",
    "\n",
    "# Load kedua file\n",
    "df_medicine = pd.read_csv(\"Medicine(No Photo Link).csv\")\n",
    "df_disease = pd.read_csv(\"disease.csv\")\n",
    "\n",
    "# Lakukan cross join antar semua kombinasi (many-to-many)\n",
    "df_relation = df_medicine[[\"id\"]].merge(\n",
    "    df_disease[[\"id\"]], how=\"cross\", suffixes=(\"_medicine\", \"_disease\")\n",
    ")\n",
    "\n",
    "# Tambahkan kolom correlation_score secara acak (0.1 - 0.7 float)\n",
    "df_relation[\"correlation_score\"] = [round(random.uniform(0.1, 0.7), 3) for _ in range(len(df_relation))]\n"
   ]
  },
  {
   "cell_type": "code",
   "execution_count": 21,
   "id": "4465bf03-246b-48c0-80f1-0a0619043def",
   "metadata": {},
   "outputs": [],
   "source": [
    "df_relation.to_csv(\"medicine&disease.csv\")"
   ]
  },
  {
   "cell_type": "code",
   "execution_count": 18,
   "id": "4d43949b-716e-4c68-8edb-2d38e380864b",
   "metadata": {},
   "outputs": [],
   "source": []
  },
  {
   "cell_type": "code",
   "execution_count": null,
   "id": "f8aae21f-367c-4a10-8bb6-7972364eec4a",
   "metadata": {},
   "outputs": [],
   "source": []
  },
  {
   "cell_type": "code",
   "execution_count": null,
   "id": "2c4d34e1-6aa0-450b-9bdf-083951f838a3",
   "metadata": {},
   "outputs": [],
   "source": []
  },
  {
   "cell_type": "code",
   "execution_count": null,
   "id": "f081eff1-2567-4a38-87a0-4a694f74de33",
   "metadata": {},
   "outputs": [],
   "source": []
  },
  {
   "cell_type": "code",
   "execution_count": null,
   "id": "025db4dc-d389-4ba8-b84a-a6fbe5fe9447",
   "metadata": {},
   "outputs": [],
   "source": []
  },
  {
   "cell_type": "code",
   "execution_count": null,
   "id": "e350eb05-b827-4113-a830-070ff4ca62d0",
   "metadata": {},
   "outputs": [],
   "source": []
  },
  {
   "cell_type": "code",
   "execution_count": null,
   "id": "d452ee9a-3455-48f0-8a20-a1f2a79f5c3a",
   "metadata": {},
   "outputs": [],
   "source": []
  },
  {
   "cell_type": "code",
   "execution_count": null,
   "id": "be26b440-6884-4b58-b152-2a65a0195fa8",
   "metadata": {},
   "outputs": [],
   "source": []
  },
  {
   "cell_type": "code",
   "execution_count": null,
   "id": "bf4c2e32-8684-4164-ade7-13098c535068",
   "metadata": {},
   "outputs": [],
   "source": []
  },
  {
   "cell_type": "code",
   "execution_count": null,
   "id": "5bdaa71a-da91-4e8c-8efd-308d6b41b311",
   "metadata": {},
   "outputs": [],
   "source": []
  },
  {
   "cell_type": "code",
   "execution_count": null,
   "id": "e848b426-6db8-478f-a5a0-16c3ec89905e",
   "metadata": {},
   "outputs": [],
   "source": []
  },
  {
   "cell_type": "code",
   "execution_count": null,
   "id": "72cd5a21-afd5-4a1a-8833-618e9260af44",
   "metadata": {},
   "outputs": [],
   "source": []
  },
  {
   "cell_type": "code",
   "execution_count": null,
   "id": "c45af2b9-6d75-4007-a7bf-2a4103f95480",
   "metadata": {},
   "outputs": [],
   "source": []
  }
 ],
 "metadata": {
  "kernelspec": {
   "display_name": "Python 3 (ipykernel)",
   "language": "python",
   "name": "python3"
  },
  "language_info": {
   "codemirror_mode": {
    "name": "ipython",
    "version": 3
   },
   "file_extension": ".py",
   "mimetype": "text/x-python",
   "name": "python",
   "nbconvert_exporter": "python",
   "pygments_lexer": "ipython3",
   "version": "3.12.3"
  }
 },
 "nbformat": 4,
 "nbformat_minor": 5
}
